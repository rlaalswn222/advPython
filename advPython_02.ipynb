{
  "nbformat": 4,
  "nbformat_minor": 0,
  "metadata": {
    "colab": {
      "provenance": [],
      "authorship_tag": "ABX9TyOzP5Ivk27oHQwh7fonBlU4",
      "include_colab_link": true
    },
    "kernelspec": {
      "name": "python3",
      "display_name": "Python 3"
    },
    "language_info": {
      "name": "python"
    }
  },
  "cells": [
    {
      "cell_type": "markdown",
      "metadata": {
        "id": "view-in-github",
        "colab_type": "text"
      },
      "source": [
        "<a href=\"https://colab.research.google.com/github/rlaalswn222/advPython/blob/main/advPython_02.ipynb\" target=\"_parent\"><img src=\"https://colab.research.google.com/assets/colab-badge.svg\" alt=\"Open In Colab\"/></a>"
      ]
    },
    {
      "cell_type": "code",
      "execution_count": null,
      "metadata": {
        "colab": {
          "base_uri": "https://localhost:8080/"
        },
        "id": "Qf00Qn8qqR--",
        "outputId": "3000c61b-7080-4328-d590-c3f3e008e77e"
      },
      "outputs": [
        {
          "output_type": "stream",
          "name": "stdout",
          "text": [
            "<class 'int'>\n",
            "<class 'float'>\n",
            "<class 'str'>\n",
            "<class 'bool'>\n"
          ]
        }
      ],
      "source": [
        "print(type(1))\n",
        "print(type(1.1))\n",
        "print(type('1'))\n",
        "print(type(False))"
      ]
    },
    {
      "cell_type": "code",
      "source": [
        "# 2진수, 8진수, 16진수\n",
        "# 임베디드 쪽 코딩을 할 때 사용\n",
        "\n",
        "# 2진수: 숫자 앞에 0b하고 + binary\n",
        "print(0b110)\n",
        "\n",
        "# 8진수: 0o + 8진수(0~7)\n",
        "print(0o11)\n",
        "\n",
        "# 16진수: 0x(hexadecimal), 0~9, A~F(a~f)까지 사용\n",
        "# a = 10\n",
        "# b = 11.. 12 13 14\n",
        "# f = 15\n",
        "print(0xB)"
      ],
      "metadata": {
        "colab": {
          "base_uri": "https://localhost:8080/"
        },
        "id": "4OenEF5AqYcR",
        "outputId": "c60bf413-439b-42dd-8f1c-16c229860dc0"
      },
      "execution_count": null,
      "outputs": [
        {
          "output_type": "stream",
          "name": "stdout",
          "text": [
            "6\n",
            "9\n",
            "11\n"
          ]
        }
      ]
    },
    {
      "cell_type": "markdown",
      "source": [
        "아파트에서 소음이 가장 심한 층수 구하기\n",
        "\n",
        "계산식: 소음이 가장 심한 층 = 0.2467 * 도로와의 거리(m) + 4.159\n",
        "\n",
        "도로와 걸이가 14m 인 아파트에서 가장 소음이 심한 층\n",
        "\n",
        "소수점 이하 수는 버림"
      ],
      "metadata": {
        "id": "3Yv5SeYcrRCY"
      }
    },
    {
      "cell_type": "code",
      "source": [
        "x = 0.2467 * 14 + 4.149\n",
        "print(int(x))\n",
        "print(x)\n",
        "print(round(x))"
      ],
      "metadata": {
        "colab": {
          "base_uri": "https://localhost:8080/"
        },
        "id": "r6CxYWi-qszN",
        "outputId": "25e2e325-5ab7-437a-9f00-72b06b458000"
      },
      "execution_count": null,
      "outputs": [
        {
          "output_type": "stream",
          "name": "stdout",
          "text": [
            "7\n",
            "7.6028\n",
            "8\n"
          ]
        }
      ]
    },
    {
      "cell_type": "code",
      "source": [
        "# 입력 변수를 선언해서 지정 할 수 있음\n",
        "dist_road = 20\n",
        "x = 0.2467 * dist_road + 4.149\n",
        "print(int(x))"
      ],
      "metadata": {
        "colab": {
          "base_uri": "https://localhost:8080/"
        },
        "id": "ic8Ilsn4rg5y",
        "outputId": "a9df3982-212b-48eb-eb40-87691a7b8c43"
      },
      "execution_count": null,
      "outputs": [
        {
          "output_type": "stream",
          "name": "stdout",
          "text": [
            "9\n"
          ]
        }
      ]
    },
    {
      "cell_type": "code",
      "source": [
        "# python의 가장 좋은점\n",
        "x, y, z = 10, 'hello', 2.6\n",
        "# tuple\n",
        "\n",
        "print(x,type(x))\n",
        "print('- '* 10)\n",
        "print(y,type(y))\n",
        "print('- '* 10)\n",
        "print(z,type(z))"
      ],
      "metadata": {
        "colab": {
          "base_uri": "https://localhost:8080/"
        },
        "id": "Yax5_CkQsTUh",
        "outputId": "63412bb2-0187-46ec-8ffd-a6acb64350d9"
      },
      "execution_count": null,
      "outputs": [
        {
          "output_type": "stream",
          "name": "stdout",
          "text": [
            "10 <class 'int'>\n",
            "- - - - - - - - - - \n",
            "hello <class 'str'>\n",
            "- - - - - - - - - - \n",
            "2.6 <class 'float'>\n"
          ]
        }
      ]
    },
    {
      "cell_type": "code",
      "source": [
        "# () 안에 넣어서\n",
        "x, y, z = (10, 'hello', 2.6)\n",
        "\n",
        "print(x,type(x))\n",
        "print('- '* 10)\n",
        "print(y,type(y))\n",
        "print('- '* 10)\n",
        "print(z,type(z))"
      ],
      "metadata": {
        "colab": {
          "base_uri": "https://localhost:8080/"
        },
        "id": "9urTEiUUsimX",
        "outputId": "21af37c3-3d5a-40f9-e37f-cb7615920dfc"
      },
      "execution_count": null,
      "outputs": [
        {
          "output_type": "stream",
          "name": "stdout",
          "text": [
            "10 <class 'int'>\n",
            "- - - - - - - - - - \n",
            "hello <class 'str'>\n",
            "- - - - - - - - - - \n",
            "2.6 <class 'float'>\n"
          ]
        }
      ]
    },
    {
      "cell_type": "code",
      "source": [
        "x, y, z = 10, 10, 10\n",
        "print(x)\n",
        "print(y)\n",
        "print(z)"
      ],
      "metadata": {
        "colab": {
          "base_uri": "https://localhost:8080/"
        },
        "id": "ROjUwo2kstcM",
        "outputId": "aedc8789-c720-4c3d-ec9a-b899faa9af67"
      },
      "execution_count": null,
      "outputs": [
        {
          "output_type": "stream",
          "name": "stdout",
          "text": [
            "10\n",
            "10\n",
            "10\n"
          ]
        }
      ]
    },
    {
      "cell_type": "code",
      "source": [
        "# 변수 개수 대로 실행하면 오류 남\n",
        "\n",
        "x, y, z = 10\n",
        "print(x)\n",
        "print(y)\n",
        "print(z)"
      ],
      "metadata": {
        "colab": {
          "base_uri": "https://localhost:8080/",
          "height": 198
        },
        "id": "xkRQmkQwtHAr",
        "outputId": "ee11ad3f-4861-4538-b63d-29f8f1f8dafc"
      },
      "execution_count": null,
      "outputs": [
        {
          "output_type": "error",
          "ename": "TypeError",
          "evalue": "cannot unpack non-iterable int object",
          "traceback": [
            "\u001b[0;31m---------------------------------------------------------------------------\u001b[0m",
            "\u001b[0;31mTypeError\u001b[0m                                 Traceback (most recent call last)",
            "\u001b[0;32m<ipython-input-18-9dcd400c7d34>\u001b[0m in \u001b[0;36m<cell line: 0>\u001b[0;34m()\u001b[0m\n\u001b[0;32m----> 1\u001b[0;31m \u001b[0mx\u001b[0m\u001b[0;34m,\u001b[0m \u001b[0my\u001b[0m\u001b[0;34m,\u001b[0m \u001b[0mz\u001b[0m \u001b[0;34m=\u001b[0m \u001b[0;36m10\u001b[0m\u001b[0;34m\u001b[0m\u001b[0;34m\u001b[0m\u001b[0m\n\u001b[0m\u001b[1;32m      2\u001b[0m \u001b[0mprint\u001b[0m\u001b[0;34m(\u001b[0m\u001b[0mx\u001b[0m\u001b[0;34m)\u001b[0m\u001b[0;34m\u001b[0m\u001b[0;34m\u001b[0m\u001b[0m\n\u001b[1;32m      3\u001b[0m \u001b[0mprint\u001b[0m\u001b[0;34m(\u001b[0m\u001b[0my\u001b[0m\u001b[0;34m)\u001b[0m\u001b[0;34m\u001b[0m\u001b[0;34m\u001b[0m\u001b[0m\n\u001b[1;32m      4\u001b[0m \u001b[0mprint\u001b[0m\u001b[0;34m(\u001b[0m\u001b[0mz\u001b[0m\u001b[0;34m)\u001b[0m\u001b[0;34m\u001b[0m\u001b[0;34m\u001b[0m\u001b[0m\n",
            "\u001b[0;31mTypeError\u001b[0m: cannot unpack non-iterable int object"
          ]
        }
      ]
    },
    {
      "cell_type": "code",
      "source": [
        "x = y = z = 10\n",
        "print(x)\n",
        "print(y)\n",
        "print(z)"
      ],
      "metadata": {
        "colab": {
          "base_uri": "https://localhost:8080/"
        },
        "id": "JHQ2jvt_tI9v",
        "outputId": "d7e10173-71a9-4752-bb65-9175cfddd034"
      },
      "execution_count": null,
      "outputs": [
        {
          "output_type": "stream",
          "name": "stdout",
          "text": [
            "10\n",
            "10\n",
            "10\n"
          ]
        }
      ]
    },
    {
      "cell_type": "code",
      "source": [
        "x = y = 10 # int\n",
        "z = 'cat' #str\n",
        "\n",
        "print(x, y, z)\n",
        "\n",
        "print('x is', x, ', y is', y , ', z is', z)\n",
        "print('x is {}, y is {}, z is {}'.format(x, y, z)) # 따옴표 한번만 사용\n",
        "print(f'x is {x}, y is {y}, z is {z}') # f-string # 교수님 추천임\n",
        "\n",
        "print('x is %d, y is %d, z is %s' %(x, y, z)) # 변수들의 type을 파악해야해서 어려움 python 2. 버전을 사용할 때 사용하던 방법"
      ],
      "metadata": {
        "colab": {
          "base_uri": "https://localhost:8080/"
        },
        "id": "MGV8NdBttQ6T",
        "outputId": "f67bc9d2-e60b-4c6c-d4a8-108ef15d1ded"
      },
      "execution_count": null,
      "outputs": [
        {
          "output_type": "stream",
          "name": "stdout",
          "text": [
            "10 10 cat\n",
            "x is 10 , y is 10 , z is cat\n",
            "x is 10, y is 10, z is cat\n",
            "x is 10, y is 10, z is cat\n",
            "x is 10, y is 10, z id cat\n"
          ]
        }
      ]
    },
    {
      "cell_type": "markdown",
      "source": [
        "# swap"
      ],
      "metadata": {
        "id": "d4OMN6BKv6jU"
      }
    },
    {
      "cell_type": "code",
      "source": [
        "# swap\n",
        "x = 10\n",
        "y = 20\n",
        "\n",
        "x, y = y, x\n",
        "print(x, y)"
      ],
      "metadata": {
        "colab": {
          "base_uri": "https://localhost:8080/"
        },
        "id": "NCKaAzEJtrWw",
        "outputId": "1d812a08-c94f-4641-a80e-7aae16732cde"
      },
      "execution_count": null,
      "outputs": [
        {
          "output_type": "stream",
          "name": "stdout",
          "text": [
            "20 10\n"
          ]
        }
      ]
    },
    {
      "cell_type": "code",
      "source": [
        "# 다른 언어 C...\n",
        "x = 10\n",
        "y = 20\n",
        "\n",
        "tmp = x\n",
        "x = y\n",
        "y = tmp\n",
        "\n",
        "print(x, y)"
      ],
      "metadata": {
        "colab": {
          "base_uri": "https://localhost:8080/"
        },
        "id": "jaOWIEJPvRxp",
        "outputId": "2fc4ada1-0063-40d1-c39a-08d06b04e9d8"
      },
      "execution_count": null,
      "outputs": [
        {
          "output_type": "stream",
          "name": "stdout",
          "text": [
            "20 10\n"
          ]
        }
      ]
    },
    {
      "cell_type": "markdown",
      "source": [
        "# 변수 삭제\n",
        "\n",
        "`del`"
      ],
      "metadata": {
        "id": "sAG5xa9rv9iv"
      }
    },
    {
      "cell_type": "code",
      "source": [
        "x = 10\n",
        "print(f'(before del) x is {x}')\n",
        "\n",
        "del x\n",
        "print(f'(after del) x is {x}')\n",
        "# 삭제하고 나서는 실행 안됨\n",
        "# 많이 사용하지 않으나, 너무 무거운 data 일 경우 사용"
      ],
      "metadata": {
        "colab": {
          "base_uri": "https://localhost:8080/",
          "height": 198
        },
        "id": "vwgFRLRwvgcJ",
        "outputId": "d406c354-cebc-4986-c42e-99e66697b3db"
      },
      "execution_count": null,
      "outputs": [
        {
          "output_type": "stream",
          "name": "stdout",
          "text": [
            "(before del) x is 10\n"
          ]
        },
        {
          "output_type": "error",
          "ename": "NameError",
          "evalue": "name 'x' is not defined",
          "traceback": [
            "\u001b[0;31m---------------------------------------------------------------------------\u001b[0m",
            "\u001b[0;31mNameError\u001b[0m                                 Traceback (most recent call last)",
            "\u001b[0;32m<ipython-input-39-b5cd6c4d066a>\u001b[0m in \u001b[0;36m<cell line: 0>\u001b[0;34m()\u001b[0m\n\u001b[1;32m      3\u001b[0m \u001b[0;34m\u001b[0m\u001b[0m\n\u001b[1;32m      4\u001b[0m \u001b[0;32mdel\u001b[0m \u001b[0mx\u001b[0m\u001b[0;34m\u001b[0m\u001b[0;34m\u001b[0m\u001b[0m\n\u001b[0;32m----> 5\u001b[0;31m \u001b[0mprint\u001b[0m\u001b[0;34m(\u001b[0m\u001b[0;34mf'(before del) x is {x}'\u001b[0m\u001b[0;34m)\u001b[0m\u001b[0;34m\u001b[0m\u001b[0;34m\u001b[0m\u001b[0m\n\u001b[0m",
            "\u001b[0;31mNameError\u001b[0m: name 'x' is not defined"
          ]
        }
      ]
    },
    {
      "cell_type": "code",
      "source": [
        "x = None\n",
        "print(x)"
      ],
      "metadata": {
        "colab": {
          "base_uri": "https://localhost:8080/"
        },
        "id": "L5qiXnGtwDLS",
        "outputId": "c17643f6-a299-4061-858b-b6d2f5df1fdb"
      },
      "execution_count": null,
      "outputs": [
        {
          "output_type": "stream",
          "name": "stdout",
          "text": [
            "None\n"
          ]
        }
      ]
    },
    {
      "cell_type": "markdown",
      "source": [
        "# 연산자"
      ],
      "metadata": {
        "id": "lVZOJSwLwSoz"
      }
    },
    {
      "cell_type": "code",
      "source": [
        "a = 10\n",
        "a = a + 20\n",
        "a += 20 # a = a + 20 과 같음\n",
        "# 교수님은 잘 안 씀\n",
        "\n",
        "print(a)\n",
        "\n",
        "a -= 10\n",
        "print(a)\n",
        "\n",
        "a //= 10\n",
        "print(a)"
      ],
      "metadata": {
        "colab": {
          "base_uri": "https://localhost:8080/"
        },
        "id": "to891ao5wQ1k",
        "outputId": "3fb0bfe5-51d1-4630-ba56-6ac1836f673f"
      },
      "execution_count": null,
      "outputs": [
        {
          "output_type": "stream",
          "name": "stdout",
          "text": [
            "50\n",
            "40\n",
            "4\n"
          ]
        }
      ]
    },
    {
      "cell_type": "code",
      "source": [
        "x = input('문자열 입력하시오: ')\n",
        "print(type(x))\n",
        "print(x)"
      ],
      "metadata": {
        "colab": {
          "base_uri": "https://localhost:8080/"
        },
        "id": "bImuo8uAwXNM",
        "outputId": "5d3c77e0-bd3b-4907-d6fb-7866f1ecfe79"
      },
      "execution_count": null,
      "outputs": [
        {
          "output_type": "stream",
          "name": "stdout",
          "text": [
            "문자열 입력하시오: 울\n",
            "<class 'str'>\n",
            "울\n"
          ]
        }
      ]
    },
    {
      "cell_type": "code",
      "source": [
        "x = input('숫자를 입력하세요: ')\n",
        "print(type(x))"
      ],
      "metadata": {
        "colab": {
          "base_uri": "https://localhost:8080/"
        },
        "id": "6ktUBeyoxP-V",
        "outputId": "8a021778-29e8-4306-f627-6f4e6831fed8"
      },
      "execution_count": null,
      "outputs": [
        {
          "output_type": "stream",
          "name": "stdout",
          "text": [
            "숫자를 입력하세요: 9\n",
            "<class 'str'>\n"
          ]
        }
      ]
    },
    {
      "cell_type": "code",
      "source": [
        "x = int(input('숫자를 입력하세요: '))\n",
        "print(type(x))"
      ],
      "metadata": {
        "colab": {
          "base_uri": "https://localhost:8080/"
        },
        "id": "6BF3k04qwryU",
        "outputId": "3ade5b05-744f-47b0-a5df-f1efb83ca3ce"
      },
      "execution_count": null,
      "outputs": [
        {
          "output_type": "stream",
          "name": "stdout",
          "text": [
            "숫자를 입력하세요: 9\n",
            "<class 'int'>\n"
          ]
        }
      ]
    },
    {
      "cell_type": "code",
      "source": [
        "a = input('첫 번째 숫자를 입력하세요: ')\n",
        "b = input('듀 번째 숫자를 입력하세요: ')\n",
        "print(a + b)"
      ],
      "metadata": {
        "colab": {
          "base_uri": "https://localhost:8080/"
        },
        "id": "bF698BdlxOVE",
        "outputId": "4adf8be8-c6da-48da-f130-2ed98ab4c392"
      },
      "execution_count": null,
      "outputs": [
        {
          "output_type": "stream",
          "name": "stdout",
          "text": [
            "첫 번째 숫자를 입력하세요: 2\n",
            "듀 번째 숫자를 입력하세요: 3\n",
            "23\n"
          ]
        }
      ]
    },
    {
      "cell_type": "code",
      "source": [
        "a = int(input('첫 번째 숫자를 입력하세요: '))\n",
        "b = int(input('듀 번째 숫자를 입력하세요: '))\n",
        "print(type(a))\n",
        "print(a+ b)"
      ],
      "metadata": {
        "colab": {
          "base_uri": "https://localhost:8080/"
        },
        "id": "9DGC0AP4xvuQ",
        "outputId": "2e78ced5-2251-4233-b9f1-5beedd5227fa"
      },
      "execution_count": null,
      "outputs": [
        {
          "output_type": "stream",
          "name": "stdout",
          "text": [
            "첫 번째 숫자를 입력하세요: 2\n",
            "듀 번째 숫자를 입력하세요: 3\n",
            "<class 'int'>\n",
            "5\n"
          ]
        }
      ]
    },
    {
      "cell_type": "code",
      "source": [
        "a = input('첫 번째 숫자를 입력하세요: ')\n",
        "b = input('듀 번째 숫자를 입력하세요: ')\n",
        "c = a+b\n",
        "print(c)"
      ],
      "metadata": {
        "colab": {
          "base_uri": "https://localhost:8080/"
        },
        "id": "SjkAlkfSx2YP",
        "outputId": "2d68739d-ecc5-4b4f-bc49-0267a6235916"
      },
      "execution_count": null,
      "outputs": [
        {
          "output_type": "stream",
          "name": "stdout",
          "text": [
            "첫 번째 숫자를 입력하세요: 1\n",
            "듀 번째 숫자를 입력하세요: 3\n",
            "13\n"
          ]
        }
      ]
    },
    {
      "cell_type": "code",
      "source": [
        "## 논리연산자\n",
        "# 1: True\n",
        "# 0: Flase\n",
        "\n",
        "#while True:\n",
        "  # --- 무한루프\n",
        "\n",
        "#while 1:\n",
        "  # --- 무한루프"
      ],
      "metadata": {
        "id": "D9sHfFmN0ixQ"
      },
      "execution_count": null,
      "outputs": []
    },
    {
      "cell_type": "code",
      "source": [
        "## 논리연산자(and)\n",
        "\n",
        "print(True and True)\n",
        "print(True and False)\n",
        "print(False and True)\n",
        "print(False and False)\n",
        "\n",
        "\n",
        "print(1 and 1)\n",
        "print(1 and 0)\n",
        "print(0 and 1)\n",
        "print(0 and 0)"
      ],
      "metadata": {
        "colab": {
          "base_uri": "https://localhost:8080/"
        },
        "id": "lbBMTbrW01_N",
        "outputId": "876ae7c0-e4cd-4892-d8d0-e72391388651"
      },
      "execution_count": null,
      "outputs": [
        {
          "output_type": "stream",
          "name": "stdout",
          "text": [
            "True\n",
            "False\n",
            "False\n",
            "False\n",
            "1\n",
            "0\n",
            "0\n",
            "0\n"
          ]
        }
      ]
    },
    {
      "cell_type": "code",
      "source": [
        "## (or)\n",
        "# 두개 다 동시에 0일 경우에만 0\n",
        "# 그 외에 경우는 다 1\n",
        "\n",
        "print(True or True) # 1 or 1\n",
        "print(True or False) # 1 or 0\n",
        "print(False or True) # 0 or 1\n",
        "print(False or False) # 0 or 0\n",
        "\n",
        "print(1 or 1)\n",
        "print(1 or 0)\n",
        "print(0 or 1)\n",
        "print(0 or 0)"
      ],
      "metadata": {
        "colab": {
          "base_uri": "https://localhost:8080/"
        },
        "id": "sli8kAa808XP",
        "outputId": "30ff8cfa-b2d2-4aa3-be01-3cafca554174"
      },
      "execution_count": null,
      "outputs": [
        {
          "output_type": "stream",
          "name": "stdout",
          "text": [
            "True\n",
            "True\n",
            "True\n",
            "False\n",
            "1\n",
            "1\n",
            "1\n",
            "0\n"
          ]
        }
      ]
    },
    {
      "cell_type": "code",
      "source": [
        "## (not a)\n",
        "# True, False를 바꿈\n",
        "\n",
        "print(not True)\n",
        "print(not False)"
      ],
      "metadata": {
        "colab": {
          "base_uri": "https://localhost:8080/"
        },
        "id": "ZzP3pbr50-Zs",
        "outputId": "f5ffce34-951c-4508-e0ee-8e0e34fc54b5"
      },
      "execution_count": null,
      "outputs": [
        {
          "output_type": "stream",
          "name": "stdout",
          "text": [
            "False\n",
            "True\n"
          ]
        }
      ]
    },
    {
      "cell_type": "code",
      "source": [
        "print(10 == 10)\n",
        "print(10 != 5)"
      ],
      "metadata": {
        "colab": {
          "base_uri": "https://localhost:8080/"
        },
        "id": "OWPv18Lf1TMN",
        "outputId": "f226adda-a5df-44e2-c696-80f55163e073"
      },
      "execution_count": null,
      "outputs": [
        {
          "output_type": "stream",
          "name": "stdout",
          "text": [
            "True\n",
            "True\n"
          ]
        }
      ]
    },
    {
      "cell_type": "code",
      "source": [
        "print( 10 == 10 and 10 != 5)"
      ],
      "metadata": {
        "colab": {
          "base_uri": "https://localhost:8080/"
        },
        "id": "scQotGjY15iH",
        "outputId": "3387cc90-c9f0-4d8b-81b8-3abbd89b0bf9"
      },
      "execution_count": null,
      "outputs": [
        {
          "output_type": "stream",
          "name": "stdout",
          "text": [
            "True\n"
          ]
        }
      ]
    },
    {
      "cell_type": "code",
      "source": [
        "print( 10 > 5 or 10 < 3) # true or flase -> true"
      ],
      "metadata": {
        "colab": {
          "base_uri": "https://localhost:8080/"
        },
        "id": "JKAEErFP2EZF",
        "outputId": "1c3afdd3-ae92-4c78-8646-11e2764e7a84"
      },
      "execution_count": null,
      "outputs": [
        {
          "output_type": "stream",
          "name": "stdout",
          "text": [
            "True\n"
          ]
        }
      ]
    },
    {
      "cell_type": "code",
      "source": [
        "print( not 10 > 5) # not True -> False"
      ],
      "metadata": {
        "colab": {
          "base_uri": "https://localhost:8080/"
        },
        "id": "mBk5MQEb2HOD",
        "outputId": "f3b7c155-2071-4230-b859-c8e70f358e5a"
      },
      "execution_count": null,
      "outputs": [
        {
          "output_type": "stream",
          "name": "stdout",
          "text": [
            "False\n"
          ]
        }
      ]
    },
    {
      "cell_type": "code",
      "source": [
        "# boolean: True, False를 나타냄\n",
        "# 웬만한거는 True 특정 케이스만 False\n",
        "\n",
        "# 정수0, 실수 0.0, 복소수 0j만 False\n",
        "# 제외한 모든 수는 True\n",
        "\n",
        "print(bool(1))\n",
        "print(bool(0))\n",
        "print(bool(-1))"
      ],
      "metadata": {
        "colab": {
          "base_uri": "https://localhost:8080/"
        },
        "id": "TMRd2AB_2Nbi",
        "outputId": "0d794458-4301-4963-8ed8-0cf7b55a2dca"
      },
      "execution_count": null,
      "outputs": [
        {
          "output_type": "stream",
          "name": "stdout",
          "text": [
            "True\n",
            "False\n",
            "True\n"
          ]
        }
      ]
    },
    {
      "cell_type": "code",
      "source": [
        "# 빈 문자열 '', \"\", None을 제외한 모든 문자열 true\n",
        "print(bool(''))\n",
        "print(bool(' '))\n",
        "print(bool('abc'))\n",
        "print(bool(None))"
      ],
      "metadata": {
        "colab": {
          "base_uri": "https://localhost:8080/"
        },
        "id": "jgMETMy-2gUG",
        "outputId": "c77434aa-818d-47c5-f47f-f951a19e923f"
      },
      "execution_count": null,
      "outputs": [
        {
          "output_type": "stream",
          "name": "stdout",
          "text": [
            "False\n",
            "True\n",
            "True\n",
            "False\n"
          ]
        }
      ]
    },
    {
      "cell_type": "code",
      "source": [
        "# 빈 리스트, 빈 튜플, 빈 딕셔너리, 빈 세트(집합)를 제외한 나머지 true\n",
        "print(bool([]))\n",
        "print(bool(()))\n",
        "print(bool({}))\n",
        "print(bool(set()))\n",
        "\n",
        "# while 돌릴때 리스트에서 하나씩 돌리면 pop 하다가 비면 끝나게끔"
      ],
      "metadata": {
        "colab": {
          "base_uri": "https://localhost:8080/"
        },
        "id": "365n7QTU2pfd",
        "outputId": "362c4288-aaa1-480e-83d7-dfba0d0a0626"
      },
      "execution_count": null,
      "outputs": [
        {
          "output_type": "stream",
          "name": "stdout",
          "text": [
            "False\n",
            "False\n",
            "False\n",
            "False\n"
          ]
        }
      ]
    },
    {
      "cell_type": "markdown",
      "source": [
        "kor, eng, math, sci 중 하나라도 50점 미만이면 불합격\n",
        "\n",
        "\n",
        "* 합격 = True\n",
        "* 불합격 = False"
      ],
      "metadata": {
        "id": "X8RiQpJH3Q8T"
      }
    },
    {
      "cell_type": "code",
      "source": [
        "kor = 92\n",
        "eng = 47\n",
        "math = 86\n",
        "sci = 70\n",
        "\n",
        "print(kor >= 50 and eng >= 50 and math >= 50 and sci >= 50 )"
      ],
      "metadata": {
        "colab": {
          "base_uri": "https://localhost:8080/"
        },
        "id": "84a9sbGC21bm",
        "outputId": "4d4d70e0-db75-40d5-8542-808ed254095f"
      },
      "execution_count": null,
      "outputs": [
        {
          "output_type": "stream",
          "name": "stdout",
          "text": [
            "False\n"
          ]
        }
      ]
    },
    {
      "cell_type": "code",
      "source": [
        "kor = 92\n",
        "eng = 50\n",
        "math = 86\n",
        "sci = 70\n",
        "\n",
        "print(kor >= 50 and eng >= 50 and math >= 50 and sci >= 50 )"
      ],
      "metadata": {
        "colab": {
          "base_uri": "https://localhost:8080/"
        },
        "id": "pxWASKHE3eQq",
        "outputId": "956193dc-14f2-4d69-d034-8afe9c52940b"
      },
      "execution_count": null,
      "outputs": [
        {
          "output_type": "stream",
          "name": "stdout",
          "text": [
            "True\n"
          ]
        }
      ]
    },
    {
      "cell_type": "code",
      "source": [
        "a = []\n",
        "b =[1, 2, 3]\n",
        "\n",
        "print(a)\n",
        "print(type(a))\n",
        "print('-' * 20)\n",
        "\n",
        "print(b)\n",
        "print(type(b))\n",
        "\n",
        "'''\n",
        "c = [1 2 3]\n",
        "print(c)\n",
        "print(type(c))\n",
        "'''"
      ],
      "metadata": {
        "colab": {
          "base_uri": "https://localhost:8080/",
          "height": 125
        },
        "id": "8AN5yGSi3mtL",
        "outputId": "d1d411a8-2e5c-4b94-9687-8087b8eaf724"
      },
      "execution_count": null,
      "outputs": [
        {
          "output_type": "stream",
          "name": "stdout",
          "text": [
            "[]\n",
            "<class 'list'>\n",
            "--------------------\n",
            "[1, 2, 3]\n",
            "<class 'list'>\n"
          ]
        },
        {
          "output_type": "execute_result",
          "data": {
            "text/plain": [
              "'\\nc = [1 2 3]\\nprint(c)\\nprint(type(c))\\n'"
            ],
            "application/vnd.google.colaboratory.intrinsic+json": {
              "type": "string"
            }
          },
          "metadata": {},
          "execution_count": 83
        }
      ]
    },
    {
      "cell_type": "code",
      "source": [
        "a = [12, [123,3], (12,2)]\n",
        "print(a)\n",
        "\n",
        "# list는 안에 요소들 자료형을 통일시키지 않아도 된다"
      ],
      "metadata": {
        "colab": {
          "base_uri": "https://localhost:8080/"
        },
        "id": "RkayhFXi4J1E",
        "outputId": "8033bf9e-ae4a-4268-98bc-b3093f6afe8e"
      },
      "execution_count": null,
      "outputs": [
        {
          "output_type": "stream",
          "name": "stdout",
          "text": [
            "[12, [123, 3], (12, 2)]\n"
          ]
        }
      ]
    },
    {
      "cell_type": "code",
      "source": [
        "person = ['james', 17, 175.3, True]\n",
        "print(person)\n",
        "\n",
        "# 2번째 요소 변경\n",
        "person[2] = 190\n",
        "print(person)\n",
        "\n",
        "print(a)"
      ],
      "metadata": {
        "colab": {
          "base_uri": "https://localhost:8080/"
        },
        "id": "XnUqPnWP4dSH",
        "outputId": "95497ab9-47f6-4581-c78e-a61db89a5dbe"
      },
      "execution_count": null,
      "outputs": [
        {
          "output_type": "stream",
          "name": "stdout",
          "text": [
            "['james', 17, 175.3, True]\n",
            "['james', 17, 190, True]\n",
            "[12, [123, 3], (12, 2)]\n"
          ]
        }
      ]
    },
    {
      "cell_type": "code",
      "source": [
        "# range(start=0, end, increment=1)\n",
        "# range(end)\n",
        "# range(start, end)\n",
        "\n",
        "a0 = range(5) # python 2. 버전에서는 list 형식으로 출력됐었음\n",
        "# 항상 list로 출력된다면, 숫자가 많을때 그대로 그 양들을 저장하게됨 -> 저장공간 낭비됨\n",
        "# 우리가 list로 호출해야 일일이 다 던져주게끔\n",
        "\n",
        "a = list(range(10)) # 0~9\n",
        "b = list(range(10, 20)) # 10~19\n",
        "c = list(range(0, 20, 2))\n",
        "d = list(range(-2, 9, 2))\n",
        "print(f'a0 is type {type(a0)}')\n",
        "print(a)\n",
        "print(b)\n",
        "print(c)\n",
        "print(d)"
      ],
      "metadata": {
        "colab": {
          "base_uri": "https://localhost:8080/"
        },
        "id": "3ZR4bGrj4vRc",
        "outputId": "a1f76b3f-2994-413d-b91a-1b0f36575d44"
      },
      "execution_count": null,
      "outputs": [
        {
          "output_type": "stream",
          "name": "stdout",
          "text": [
            "a0 is type <class 'range'>\n",
            "[0, 1, 2, 3, 4, 5, 6, 7, 8, 9]\n",
            "[10, 11, 12, 13, 14, 15, 16, 17, 18, 19]\n",
            "[0, 2, 4, 6, 8, 10, 12, 14, 16, 18]\n",
            "[-2, 0, 2, 4, 6, 8]\n"
          ]
        }
      ]
    },
    {
      "cell_type": "code",
      "source": [
        "# tuple: ()\n",
        "# indexing은 가능하나, 수정 불가\n",
        "\n",
        "a = ()\n",
        "b= (1, 2, 3)\n",
        "c = 1, # 요소가 하나 들어가 있는 튜플\n",
        "d = (2,)  # 요소가 하나 들어가 있는 튜플\n",
        "e = 1, 2, 3\n",
        "f = 1 # 콤마가 없으면 그냥 int 처리를 하겠지 ;;\n",
        "\n",
        "print(a)\n",
        "print(type(a))\n",
        "print(b)\n",
        "print(c)\n",
        "print(d)\n",
        "print(e)\n",
        "print(f)\n",
        "\n",
        "print(type(a))\n",
        "print(type(b))\n",
        "print(type(c))\n",
        "print(type(d))\n",
        "print(type(e))\n",
        "print(type(f))"
      ],
      "metadata": {
        "colab": {
          "base_uri": "https://localhost:8080/"
        },
        "id": "xduahE-X49Nm",
        "outputId": "6f3582cf-beca-439a-c12a-f420a112ce48"
      },
      "execution_count": null,
      "outputs": [
        {
          "output_type": "stream",
          "name": "stdout",
          "text": [
            "()\n",
            "<class 'tuple'>\n",
            "(1, 2, 3)\n",
            "(1,)\n",
            "(2,)\n",
            "(1, 2, 3)\n",
            "1\n",
            "<class 'tuple'>\n",
            "<class 'tuple'>\n",
            "<class 'tuple'>\n",
            "<class 'tuple'>\n",
            "<class 'tuple'>\n",
            "<class 'int'>\n"
          ]
        }
      ]
    },
    {
      "cell_type": "markdown",
      "source": [
        "list와 tuple의 차이점\n",
        "\n",
        "수정 가능 여부!"
      ],
      "metadata": {
        "id": "NB3QOnXV8fx2"
      }
    },
    {
      "cell_type": "code",
      "source": [
        "# 튜플\n",
        "\n",
        "person = ('james', 17, 175.3, True)\n",
        "print(person)\n",
        "print(person[2])\n",
        "\n",
        "person[2] = 190 # 수정을 절대 못함\n",
        "print(person)"
      ],
      "metadata": {
        "colab": {
          "base_uri": "https://localhost:8080/",
          "height": 233
        },
        "id": "eFTFjaTl7mGi",
        "outputId": "fcc928fa-1b4f-427c-baca-d02d03fcf030"
      },
      "execution_count": null,
      "outputs": [
        {
          "output_type": "stream",
          "name": "stdout",
          "text": [
            "('james', 17, 175.3, True)\n",
            "175.3\n"
          ]
        },
        {
          "output_type": "error",
          "ename": "TypeError",
          "evalue": "'tuple' object does not support item assignment",
          "traceback": [
            "\u001b[0;31m---------------------------------------------------------------------------\u001b[0m",
            "\u001b[0;31mTypeError\u001b[0m                                 Traceback (most recent call last)",
            "\u001b[0;32m<ipython-input-103-614beb31dbed>\u001b[0m in \u001b[0;36m<cell line: 0>\u001b[0;34m()\u001b[0m\n\u001b[1;32m      5\u001b[0m \u001b[0mprint\u001b[0m\u001b[0;34m(\u001b[0m\u001b[0mperson\u001b[0m\u001b[0;34m[\u001b[0m\u001b[0;36m2\u001b[0m\u001b[0;34m]\u001b[0m\u001b[0;34m)\u001b[0m\u001b[0;34m\u001b[0m\u001b[0;34m\u001b[0m\u001b[0m\n\u001b[1;32m      6\u001b[0m \u001b[0;34m\u001b[0m\u001b[0m\n\u001b[0;32m----> 7\u001b[0;31m \u001b[0mperson\u001b[0m\u001b[0;34m[\u001b[0m\u001b[0;36m2\u001b[0m\u001b[0;34m]\u001b[0m \u001b[0;34m=\u001b[0m \u001b[0;36m190\u001b[0m\u001b[0;34m\u001b[0m\u001b[0;34m\u001b[0m\u001b[0m\n\u001b[0m\u001b[1;32m      8\u001b[0m \u001b[0mprint\u001b[0m\u001b[0;34m(\u001b[0m\u001b[0mperson\u001b[0m\u001b[0;34m)\u001b[0m\u001b[0;34m\u001b[0m\u001b[0;34m\u001b[0m\u001b[0m\n",
            "\u001b[0;31mTypeError\u001b[0m: 'tuple' object does not support item assignment"
          ]
        }
      ]
    },
    {
      "cell_type": "code",
      "source": [
        "# tuple을 수정하고 싶다면 list로 바꾸고 수정을 한 다음에, tuple로 다시\n",
        "\n",
        "a = [1, 2, 3]  # list\n",
        "b = tuple(a) # 튜플\n",
        "c = list(b) # 리스트\n",
        "c[1] = 1000 # 리스트에서 수정\n",
        "d = tuple(c) # 리스트를 다시 튜플\n",
        "\n",
        "print(a)\n",
        "print(b)\n",
        "print(c)\n",
        "print(d)\n"
      ],
      "metadata": {
        "colab": {
          "base_uri": "https://localhost:8080/"
        },
        "id": "ZKd4AYvo8d8Z",
        "outputId": "7a0a2cd5-a6c6-4d4e-a1ca-a9b7bf712d9a"
      },
      "execution_count": null,
      "outputs": [
        {
          "output_type": "stream",
          "name": "stdout",
          "text": [
            "[1, 2, 3]\n",
            "(1, 2, 3)\n",
            "[1, 1000, 3]\n",
            "(1, 1000, 3)\n"
          ]
        }
      ]
    },
    {
      "cell_type": "code",
      "source": [
        "hello = 'hello' # str: tuple로 인식한다는 뜻\n",
        "\n",
        "print(hello)\n",
        "print(hello[2])\n",
        "\n",
        "print(type(hello))\n",
        "\n",
        "# 'str' object does not support item assignment\n",
        "# str을 수정하는걸 지원하지 않음\n",
        "hello[2] = 'm' # 수정 불가\n",
        "print(hello)\n"
      ],
      "metadata": {
        "colab": {
          "base_uri": "https://localhost:8080/",
          "height": 269
        },
        "id": "t-c4kowu8_gZ",
        "outputId": "70059aeb-ecca-42ed-d67b-8d7d3c1ac2c4"
      },
      "execution_count": null,
      "outputs": [
        {
          "output_type": "stream",
          "name": "stdout",
          "text": [
            "hello\n",
            "l\n",
            "<class 'str'>\n"
          ]
        },
        {
          "output_type": "error",
          "ename": "TypeError",
          "evalue": "'str' object does not support item assignment",
          "traceback": [
            "\u001b[0;31m---------------------------------------------------------------------------\u001b[0m",
            "\u001b[0;31mTypeError\u001b[0m                                 Traceback (most recent call last)",
            "\u001b[0;32m<ipython-input-109-27198ecb138e>\u001b[0m in \u001b[0;36m<cell line: 0>\u001b[0;34m()\u001b[0m\n\u001b[1;32m      5\u001b[0m \u001b[0;34m\u001b[0m\u001b[0m\n\u001b[1;32m      6\u001b[0m \u001b[0mprint\u001b[0m\u001b[0;34m(\u001b[0m\u001b[0mtype\u001b[0m\u001b[0;34m(\u001b[0m\u001b[0mhello\u001b[0m\u001b[0;34m)\u001b[0m\u001b[0;34m)\u001b[0m\u001b[0;34m\u001b[0m\u001b[0;34m\u001b[0m\u001b[0m\n\u001b[0;32m----> 7\u001b[0;31m \u001b[0mhello\u001b[0m\u001b[0;34m[\u001b[0m\u001b[0;36m2\u001b[0m\u001b[0;34m]\u001b[0m \u001b[0;34m=\u001b[0m \u001b[0;34m'm'\u001b[0m \u001b[0;31m# 수정 불가\u001b[0m\u001b[0;34m\u001b[0m\u001b[0;34m\u001b[0m\u001b[0m\n\u001b[0m\u001b[1;32m      8\u001b[0m \u001b[0mprint\u001b[0m\u001b[0;34m(\u001b[0m\u001b[0mhello\u001b[0m\u001b[0;34m)\u001b[0m\u001b[0;34m\u001b[0m\u001b[0;34m\u001b[0m\u001b[0m\n\u001b[1;32m      9\u001b[0m \u001b[0;34m\u001b[0m\u001b[0m\n",
            "\u001b[0;31mTypeError\u001b[0m: 'str' object does not support item assignment"
          ]
        }
      ]
    },
    {
      "cell_type": "code",
      "source": [
        "# 문자열 하나씩 나누게 된다\n",
        "print(list(hello))\n",
        "print(tuple(hello))"
      ],
      "metadata": {
        "colab": {
          "base_uri": "https://localhost:8080/"
        },
        "id": "96TQWKl59JJw",
        "outputId": "9f20b6a9-17d9-4e45-825a-19fb6acfb636"
      },
      "execution_count": null,
      "outputs": [
        {
          "output_type": "stream",
          "name": "stdout",
          "text": [
            "['h', 'e', 'l', 'l', 'o']\n",
            "('h', 'e', 'l', 'l', 'o')\n"
          ]
        }
      ]
    },
    {
      "cell_type": "markdown",
      "source": [
        "# 시퀀스 자료형\n",
        "\n",
        "순서가 있는 것들\n",
        "* list\n",
        "* tuple\n",
        "* range\n",
        "* str\n",
        "\n"
      ],
      "metadata": {
        "id": "ysN8UyP99tr9"
      }
    },
    {
      "cell_type": "code",
      "source": [
        "# 시퀀스 자료형에만 쓰일 수 있는\n",
        "\n",
        "a = list(range(0, 99, 10))\n",
        "\n",
        "# list\n",
        "print(30 in a)\n",
        "print(100 in a)\n",
        "\n",
        "print(100 not in a) # a 안에 100이 들어가 있지 않냐? -> 안들어가 있음 -> True\n",
        "print(30 not in a)\n",
        "\n",
        "print('-' * 20)\n",
        "# range\n",
        "print(1 in range(10))\n",
        "print(11 in range(10))\n",
        "\n",
        "print('-' * 20)\n",
        "# str\n",
        "print('p' in 'pyhton')\n",
        "print('P' in 'python') # 대소문자 구분"
      ],
      "metadata": {
        "colab": {
          "base_uri": "https://localhost:8080/"
        },
        "id": "7JSju5qz9nPO",
        "outputId": "3f0b8a53-d798-49d5-8765-90adeb88fc20"
      },
      "execution_count": null,
      "outputs": [
        {
          "output_type": "stream",
          "name": "stdout",
          "text": [
            "True\n",
            "False\n",
            "True\n",
            "False\n",
            "--------------------\n",
            "True\n",
            "False\n",
            "--------------------\n",
            "True\n",
            "False\n"
          ]
        }
      ]
    },
    {
      "cell_type": "code",
      "source": [
        "# 시퀀스 문자열끼리 연결이 됨 (list)\n",
        "a = [0, 10, 20, 30]\n",
        "b = [9, 8, 7, 6]\n",
        "print(a+b)\n",
        "\n",
        "# range는 안되기 때문에 range를 list type으로 변경하고 합치면 됨\n",
        "\n",
        "print('-' * 30)\n",
        "print('hello' + ' ' + 'python')"
      ],
      "metadata": {
        "colab": {
          "base_uri": "https://localhost:8080/"
        },
        "id": "VvUxxHWY_H0E",
        "outputId": "5e1e323f-0a94-408f-bae2-2657e4ed0f79"
      },
      "execution_count": null,
      "outputs": [
        {
          "output_type": "stream",
          "name": "stdout",
          "text": [
            "[0, 10, 20, 30, 9, 8, 7, 6]\n",
            "------------------------------\n",
            "hello python\n"
          ]
        }
      ]
    },
    {
      "cell_type": "code",
      "source": [
        "# range끼리 합침\n",
        "\n",
        "# print(range(0, 10) + range(10, 20))\n",
        "# TypeError: unsupported operand type(s) for +: 'range' and 'range'\n",
        "\n",
        "# range 끼리 합치는거는 type error -> List로 바꾸고 합치면 됨\n",
        "\n",
        "print(list(range(0, 10))+list(range(90, 100)))"
      ],
      "metadata": {
        "colab": {
          "base_uri": "https://localhost:8080/"
        },
        "id": "YOrkxsAJAfHa",
        "outputId": "5be21a2c-364f-4d21-b7cb-6d5858bdf96e"
      },
      "execution_count": null,
      "outputs": [
        {
          "output_type": "stream",
          "name": "stdout",
          "text": [
            "[0, 1, 2, 3, 4, 5, 6, 7, 8, 9, 90, 91, 92, 93, 94, 95, 96, 97, 98, 99]\n"
          ]
        }
      ]
    },
    {
      "cell_type": "code",
      "source": [
        "print([1, 2, 3, 4]*3)\n",
        "print('-'*20)"
      ],
      "metadata": {
        "colab": {
          "base_uri": "https://localhost:8080/"
        },
        "id": "aDL2Pad8ALV7",
        "outputId": "918ce6b4-27b3-4c26-8842-6d43dc317d02"
      },
      "execution_count": null,
      "outputs": [
        {
          "output_type": "stream",
          "name": "stdout",
          "text": [
            "[1, 2, 3, 4, 1, 2, 3, 4, 1, 2, 3, 4]\n",
            "--------------------\n"
          ]
        }
      ]
    },
    {
      "cell_type": "code",
      "source": [
        "a = [0, 10, 20, 30, 40, 50, 60, 70, 80, 90]\n",
        "print(len(a))\n",
        "b = (38, 76, 43, 62, 19)\n",
        "print(len(b))\n",
        "\n",
        "print(len(range(0, 10, 2)))\n",
        "print(len('hello python'))"
      ],
      "metadata": {
        "colab": {
          "base_uri": "https://localhost:8080/"
        },
        "id": "COFj5LMOAb7r",
        "outputId": "5fe16cbf-1f9a-4354-f76e-16448b87663c"
      },
      "execution_count": null,
      "outputs": [
        {
          "output_type": "stream",
          "name": "stdout",
          "text": [
            "10\n",
            "5\n",
            "5\n",
            "12\n"
          ]
        }
      ]
    },
    {
      "cell_type": "code",
      "source": [
        "a = [38, 21, 53, 62, 19]\n",
        "#    -5  -4  -3  -2  -1\n",
        "#     0.  1.  2.  3.   4\n",
        "print(a[-1]) # print(len(a) - 1)\n",
        "print(a[-3])\n",
        "print(b[-1])"
      ],
      "metadata": {
        "colab": {
          "base_uri": "https://localhost:8080/"
        },
        "id": "7we1bZY3DMt3",
        "outputId": "ada6cf2a-707d-4433-8402-44ae8aede569"
      },
      "execution_count": null,
      "outputs": [
        {
          "output_type": "stream",
          "name": "stdout",
          "text": [
            "19\n",
            "53\n",
            "19\n"
          ]
        }
      ]
    },
    {
      "cell_type": "code",
      "source": [
        "# slicing\n",
        "# 여러개의 요소를 access\n",
        "\n",
        "a = [0, 10, 20, 30, 40, 50, 60, 70, 80, 90]\n",
        "print(a[:10])\n",
        "print(a[2:4])\n",
        "print(a[:6]) # 0, 1, 2, 3, 4, 5 index까지 출력\n",
        "print(a[7:]) # 7~\n",
        "print(a[:])\n",
        "print(a[::])\n",
        "print(a[1:1]) # 빈 리스트\n",
        "print(a[2:8:3])\n",
        "print(a[::-1]) # 거꾸로"
      ],
      "metadata": {
        "colab": {
          "base_uri": "https://localhost:8080/"
        },
        "id": "RpCAIcKNDk-t",
        "outputId": "3d4cb288-9e07-4de8-e3d9-b83eff6e20cb"
      },
      "execution_count": null,
      "outputs": [
        {
          "output_type": "stream",
          "name": "stdout",
          "text": [
            "[0, 10, 20, 30, 40, 50, 60, 70, 80, 90]\n",
            "[20, 30]\n",
            "[0, 10, 20, 30, 40, 50]\n",
            "[70, 80, 90]\n",
            "[0, 10, 20, 30, 40, 50, 60, 70, 80, 90]\n",
            "[0, 10, 20, 30, 40, 50, 60, 70, 80, 90]\n",
            "[]\n",
            "[20, 50]\n",
            "[90, 80, 70, 60, 50, 40, 30, 20, 10, 0]\n"
          ]
        }
      ]
    },
    {
      "cell_type": "code",
      "source": [
        "# dic\n",
        "# {key : value}\n",
        "\n",
        "x = {'a': 10, 'b': 20, 'c': 30, 'd': 40}\n",
        "print(x)\n",
        "print(x.keys())\n",
        "print(x.values())\n",
        "print(x['a'])\n",
        "\n",
        "# key와 value는 형식이 정해져있지 않음"
      ],
      "metadata": {
        "colab": {
          "base_uri": "https://localhost:8080/"
        },
        "id": "rwnfWiayEj_E",
        "outputId": "1117ee42-aa3b-47e8-fa09-43a0a7adc233"
      },
      "execution_count": null,
      "outputs": [
        {
          "output_type": "stream",
          "name": "stdout",
          "text": [
            "{'a': 10, 'b': 20, 'c': 30, 'd': 40}\n",
            "dict_keys(['a', 'b', 'c', 'd'])\n",
            "dict_values([10, 20, 30, 40])\n",
            "10\n"
          ]
        }
      ]
    },
    {
      "cell_type": "code",
      "source": [
        "# key에는 dic을 사용할 수 없음\n",
        "# x = {{'x':10}: 100}\n",
        "# TypeError: unhashable type: 'dict'"
      ],
      "metadata": {
        "colab": {
          "base_uri": "https://localhost:8080/",
          "height": 144
        },
        "id": "xuhj_2zCFudy",
        "outputId": "e73b4f21-4162-4b96-d4e5-79bd45bba9ff"
      },
      "execution_count": null,
      "outputs": [
        {
          "output_type": "error",
          "ename": "TypeError",
          "evalue": "unhashable type: 'dict'",
          "traceback": [
            "\u001b[0;31m---------------------------------------------------------------------------\u001b[0m",
            "\u001b[0;31mTypeError\u001b[0m                                 Traceback (most recent call last)",
            "\u001b[0;32m<ipython-input-154-5fc31fe63d83>\u001b[0m in \u001b[0;36m<cell line: 0>\u001b[0;34m()\u001b[0m\n\u001b[0;32m----> 1\u001b[0;31m \u001b[0mx\u001b[0m \u001b[0;34m=\u001b[0m \u001b[0;34m{\u001b[0m\u001b[0;34m{\u001b[0m\u001b[0;34m'x'\u001b[0m\u001b[0;34m:\u001b[0m\u001b[0;36m10\u001b[0m\u001b[0;34m}\u001b[0m\u001b[0;34m:\u001b[0m \u001b[0;36m100\u001b[0m\u001b[0;34m}\u001b[0m\u001b[0;34m\u001b[0m\u001b[0;34m\u001b[0m\u001b[0m\n\u001b[0m",
            "\u001b[0;31mTypeError\u001b[0m: unhashable type: 'dict'"
          ]
        }
      ]
    },
    {
      "cell_type": "code",
      "source": [
        "# value에는 dic을 사용할 수 있네???\n",
        "#?\n",
        "\n",
        "x = {'x': {'y': 20}}\n",
        "print(x)\n",
        "print(y)"
      ],
      "metadata": {
        "colab": {
          "base_uri": "https://localhost:8080/"
        },
        "id": "9pLf4yBLGtfb",
        "outputId": "1ed908f2-b95a-401b-dd40-6599f4ee4cdd"
      },
      "execution_count": null,
      "outputs": [
        {
          "output_type": "stream",
          "name": "stdout",
          "text": [
            "{'x': {'y': 20}}\n",
            "10\n"
          ]
        }
      ]
    },
    {
      "cell_type": "code",
      "source": [
        "x = {1: {2:100}, 2: {3: 200}}\n",
        "# print(x[0]) #indexing이 다름\n",
        "print(x[1])\n",
        "print(x[2])\n",
        "print(x.values())"
      ],
      "metadata": {
        "colab": {
          "base_uri": "https://localhost:8080/"
        },
        "id": "jDTy8Q1LG7eN",
        "outputId": "8f18b58d-3d3b-4034-f18a-3d9fb80577d0"
      },
      "execution_count": null,
      "outputs": [
        {
          "output_type": "stream",
          "name": "stdout",
          "text": [
            "{2: 100}\n",
            "{3: 200}\n",
            "dict_values([{2: 100}, {3: 200}])\n"
          ]
        }
      ]
    },
    {
      "cell_type": "code",
      "source": [
        "a= {}\n",
        "print(a, type(a))\n",
        "\n",
        "dic = dict(a=10, b=20, c=30)\n",
        "print(dic)\n",
        "\n",
        "# dict(zip([key1, key2, ...], [val1, val2, ...]))\n",
        "dic2 = dict(zip(['a', 'b', 'c'], [10, 20, 30]))\n",
        "print(dic2)\n",
        "\n",
        "#dict([(key, val), (key, val), ...])\n",
        "dic3 = dict([('a', 10), ('b', 20), ('c', 30)])\n",
        "print(dic3)\n",
        "\n",
        "# dict({key1: val1, key2, val2, ...})\n",
        "dic4 = dict({'a': 10, 'b': 20, 'c': 30})\n",
        "print(dic4)"
      ],
      "metadata": {
        "colab": {
          "base_uri": "https://localhost:8080/"
        },
        "id": "gqtVaejgHXsi",
        "outputId": "33f8077f-0702-4f7a-9dee-3dc7b1892922"
      },
      "execution_count": null,
      "outputs": [
        {
          "output_type": "stream",
          "name": "stdout",
          "text": [
            "{} <class 'dict'>\n",
            "{'a': 10, 'b': 20, 'c': 30}\n",
            "{'a': 10, 'b': 20, 'c': 30}\n",
            "{'a': 10, 'b': 20, 'c': 30}\n",
            "{'a': 10, 'b': 20, 'c': 30}\n"
          ]
        }
      ]
    },
    {
      "cell_type": "code",
      "source": [
        "# set\n",
        "# 집합: 중복을 허용하지 않음\n",
        "\n",
        "a = set()\n",
        "print(a, type(a))\n",
        "\n",
        "b = {}\n",
        "print(b, type(b))\n",
        "\n",
        "# 1. 중복허용하지 않음\n",
        "c = set('apple')\n",
        "print(c) # 중복 제거해서 출력됨"
      ],
      "metadata": {
        "colab": {
          "base_uri": "https://localhost:8080/"
        },
        "id": "wrNxnqOsHGQz",
        "outputId": "28c46085-1ad7-4e9a-a194-cbdea9fe99d4"
      },
      "execution_count": null,
      "outputs": [
        {
          "output_type": "stream",
          "name": "stdout",
          "text": [
            "set() <class 'set'>\n",
            "{} <class 'dict'>\n",
            "{'a', 'l', 'p', 'e'}\n"
          ]
        }
      ]
    },
    {
      "cell_type": "code",
      "source": [
        "# 2. 순서가 정해져있지 않음\n",
        "# 중복된것이 없기 때문에 순서는 바뀌고, 그대로 나옴\n",
        "fruits = {'apple', 'banana', 'orange', 'grape'}\n",
        "print(fruits)\n",
        "\n",
        "# 따라서 indexing이 안됨\n",
        "# print(fruits[0])\n",
        "# TypeError: 'set' object is not subscriptable"
      ],
      "metadata": {
        "colab": {
          "base_uri": "https://localhost:8080/"
        },
        "id": "RL2kUXkOIm74",
        "outputId": "041cfb07-2e69-4166-dde0-2f5e0a19e95b"
      },
      "execution_count": null,
      "outputs": [
        {
          "output_type": "stream",
          "name": "stdout",
          "text": [
            "{'grape', 'banana', 'apple', 'orange'}\n"
          ]
        }
      ]
    },
    {
      "cell_type": "code",
      "source": [
        "# set안에 특정요소가 있는지 확인\n",
        "\n",
        "print('orange' in fruits)\n",
        "print('peach' in fruits)"
      ],
      "metadata": {
        "colab": {
          "base_uri": "https://localhost:8080/"
        },
        "id": "ef2YQghAI6T1",
        "outputId": "fcdfeccb-b90e-4802-9575-a59171882f7a"
      },
      "execution_count": null,
      "outputs": [
        {
          "output_type": "stream",
          "name": "stdout",
          "text": [
            "True\n",
            "False\n"
          ]
        }
      ]
    },
    {
      "cell_type": "code",
      "source": [
        "# if문\n",
        "# if 조건문:\n",
        "#     조건이 true일 때 실행될 것\n",
        "\n",
        "a = 10\n",
        "if a == 10:\n",
        "  print('a가 10')\n",
        "\n",
        "print('aaa') # if 밖으로 나와서 출력됨\n",
        "\n",
        "print('-' *10)\n",
        "\n",
        "b = 5\n",
        "if b == 10:\n",
        "  print('b가 10')\n",
        "\n",
        "print('b')"
      ],
      "metadata": {
        "colab": {
          "base_uri": "https://localhost:8080/"
        },
        "id": "kNoeWpNzJVOt",
        "outputId": "084ad3d8-2f5b-44cc-820e-c4fac2b68b0a"
      },
      "execution_count": null,
      "outputs": [
        {
          "output_type": "stream",
          "name": "stdout",
          "text": [
            "a가 10\n",
            "aaa\n",
            "----------\n",
            "b\n"
          ]
        }
      ]
    },
    {
      "cell_type": "code",
      "source": [
        "# 들여쓰기의 예시\n",
        "a = 10\n",
        "if a == 10:\n",
        "  print('10입니다.')\n",
        "  print('10입니다.')\n",
        "  print('10입니다.')\n",
        "  print('10입니다.')\n",
        "\n",
        "if a != 9:\n",
        "    print('9가 아닙니다.')\n",
        "    print(' ')\n",
        "    print('9가 아닙니다.')\n",
        "    print('9가 아닙니다.')\n",
        "    print('9가 아닙니다.')\n",
        "\n",
        "\n",
        "# 그냥 자기들끼리 들여쓰기 가능하면 되느늗ㅅ..?\n",
        "# colab 특성같음\n",
        "if a != 8:\n",
        "  print('8가 아닙니다.')\n",
        "  print('8가 아닙니다.')\n",
        "  print('8가 아닙니다.')"
      ],
      "metadata": {
        "colab": {
          "base_uri": "https://localhost:8080/"
        },
        "id": "RYm2ztwnJv5y",
        "outputId": "22e6b312-f337-4bfe-8f67-a443ea2c51d4"
      },
      "execution_count": null,
      "outputs": [
        {
          "output_type": "stream",
          "name": "stdout",
          "text": [
            "10입니다.\n",
            "10입니다.\n",
            "10입니다.\n",
            "10입니다.\n",
            "9가 아닙니다.\n",
            " \n",
            "9가 아닙니다.\n",
            "9가 아닙니다.\n",
            "9가 아닙니다.\n",
            "8가 아닙니다.\n",
            "8가 아닙니다.\n",
            "8가 아닙니다.\n"
          ]
        }
      ]
    },
    {
      "cell_type": "code",
      "source": [
        "#if else\n",
        "\n",
        "x = 10\n",
        "y = 20\n",
        "\n",
        "if x == 10 and y == 20:\n",
        "  print('참')\n",
        "\n",
        "else:\n",
        "  print('거짓')"
      ],
      "metadata": {
        "colab": {
          "base_uri": "https://localhost:8080/"
        },
        "id": "iG4Pq91OKVTy",
        "outputId": "1a5862b9-9bdc-4af5-ac13-d66b313fe5f3"
      },
      "execution_count": null,
      "outputs": [
        {
          "output_type": "stream",
          "name": "stdout",
          "text": [
            "참\n"
          ]
        }
      ]
    },
    {
      "cell_type": "code",
      "source": [
        "a = 10\n",
        "if a == 10:\n",
        "  print('a는 10')\n",
        "else:\n",
        "  pass"
      ],
      "metadata": {
        "colab": {
          "base_uri": "https://localhost:8080/"
        },
        "id": "HsTXPbJeLOf5",
        "outputId": "84d2ef6b-29b9-4961-9c91-b1d8a8dba0a5"
      },
      "execution_count": null,
      "outputs": [
        {
          "output_type": "stream",
          "name": "stdout",
          "text": [
            "a는 10\n"
          ]
        }
      ]
    },
    {
      "cell_type": "code",
      "source": [
        "write_test = 75\n",
        "coding_test = True\n",
        "\n",
        "if write_test >= 80:\n",
        "  if coding_test == True:\n",
        "    print('pass')\n",
        "  else:\n",
        "    print('fail')\n",
        "else:\n",
        "  print('fail')"
      ],
      "metadata": {
        "colab": {
          "base_uri": "https://localhost:8080/"
        },
        "id": "6xV32P2WLryb",
        "outputId": "6983cb2c-f1ed-48c6-e176-1bf66819060d"
      },
      "execution_count": null,
      "outputs": [
        {
          "output_type": "stream",
          "name": "stdout",
          "text": [
            "fail\n"
          ]
        }
      ]
    },
    {
      "cell_type": "code",
      "source": [
        "if (write_test >= 80 and coding_test == True):\n",
        "  print('pass')\n",
        "else:\n",
        "  print('fail')"
      ],
      "metadata": {
        "colab": {
          "base_uri": "https://localhost:8080/"
        },
        "id": "kf9j6gJbMRUJ",
        "outputId": "e5cb839a-2b59-4596-8b30-524de11ec36b"
      },
      "execution_count": null,
      "outputs": [
        {
          "output_type": "stream",
          "name": "stdout",
          "text": [
            "fail\n"
          ]
        }
      ]
    },
    {
      "cell_type": "code",
      "source": [],
      "metadata": {
        "id": "n3raXXgoMdbl"
      },
      "execution_count": null,
      "outputs": []
    }
  ]
}